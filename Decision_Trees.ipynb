{
 "cells": [
  {
   "cell_type": "markdown",
   "metadata": {
    "id": "6nopS2daMiT7",
    "nbgrader": {
     "grade": false,
     "grade_id": "cell-6bd0516e7cb654f5",
     "locked": true,
     "schema_version": 1,
     "solution": false
    }
   },
   "source": [
    "# Exercise 2: Decision Trees\n",
    "\n",
    "In this assignment you will implement a Decision Tree algorithm as learned in class.\n",
    "\n",
    "## Read the following instructions carefully:\n",
    "\n",
    "1. This jupyter notebook contains all the step by step instructions needed for this exercise.\n",
    "1. Submission includes this notebook only with the exercise number and your ID as the filename. For example: `hw2_123456789_987654321.ipynb` if you submitted in pairs and `hw2_123456789.ipynb` if you submitted the exercise alone.\n",
    "1. Write **efficient vectorized** code whenever possible. Some calculations in this exercise take several minutes when implemented efficiently, and might take much longer otherwise. Unnecessary loops will result in point deduction.\n",
    "1. You are responsible for the correctness of your code and should add as many tests as you see fit. Tests will not be graded nor checked.\n",
    "1. Write your functions in this notebook only. **Do not create Python modules and import them**.\n",
    "1. You are allowed to use functions and methods from the [Python Standard Library](https://docs.python.org/3/library/) and [numpy](https://www.numpy.org/devdocs/reference/) only. **Do not import anything else.**\n",
    "1. Your code must run without errors. Make sure your `numpy` version is at least 1.15.4 and that you are using at least python 3.6. Changes of the configuration we provided are at your own risk. Any code that cannot run will not be graded.\n",
    "1. Write your own code. Cheating will not be tolerated.\n",
    "1. Answers to qualitative questions should be written in **markdown** cells (with $\\LaTeX$ support). Answers that will be written in commented code blocks will not be checked.\n",
    "\n",
    "## In this exercise you will perform the following:\n",
    "1. Practice OOP in python.\n",
    "2. Implement two impurity measures: Gini and Entropy.\n",
    "3. Construct a decision tree algorithm.\n",
    "4. Prune the tree to achieve better results.\n",
    "5. Visualize your results."
   ]
  },
  {
   "cell_type": "markdown",
   "metadata": {
    "id": "8VlHTPxHMiT-"
   },
   "source": [
    "# I have read and understood the instructions: *** 318195278, 302278601 ***"
   ]
  },
  {
   "cell_type": "code",
   "execution_count": 282,
   "metadata": {
    "id": "vNOgDy7SMiT_",
    "nbgrader": {
     "grade": false,
     "grade_id": "cell-ed9fe7b1026e33cb",
     "locked": true,
     "schema_version": 1,
     "solution": false
    }
   },
   "outputs": [],
   "source": [
    "import numpy as np\n",
    "import pandas as pd\n",
    "import matplotlib.pyplot as plt\n",
    "\n",
    "# make matplotlib figures appear inline in the notebook\n",
    "%matplotlib inline\n",
    "plt.rcParams['figure.figsize'] = (10.0, 8.0) # set default size of plots\n",
    "plt.rcParams['image.interpolation'] = 'nearest'\n",
    "plt.rcParams['image.cmap'] = 'gray'\n",
    "\n",
    "# Ignore warnings\n",
    "import warnings\n",
    "warnings.filterwarnings('ignore')"
   ]
  },
  {
   "cell_type": "markdown",
   "metadata": {
    "id": "z4hT39FpMiUA",
    "nbgrader": {
     "grade": false,
     "grade_id": "cell-c6ac605270c2b091",
     "locked": true,
     "schema_version": 1,
     "solution": false
    }
   },
   "source": [
    "## Warmup - OOP in python\n",
    "\n",
    "Our desicion tree will be implemented using a dedicated python class. Python classes are very similar to classes in Java.\n",
    "\n",
    "\n",
    "You can use the following [site](https://jeffknupp.com/blog/2014/06/18/improve-your-python-python-classes-and-object-oriented-programming/) to learn about classes in python."
   ]
  },
  {
   "cell_type": "code",
   "execution_count": 283,
   "metadata": {
    "id": "Cz9MSsQhMiUA"
   },
   "outputs": [],
   "source": [
    "class Node(object):\n",
    "    def __init__(self, data):\n",
    "        self.data = data\n",
    "        self.children = []\n",
    "\n",
    "    def add_child(self, node):\n",
    "        self.children.append(node)\n"
   ]
  },
  {
   "cell_type": "code",
   "execution_count": 284,
   "metadata": {
    "colab": {
     "base_uri": "https://localhost:8080/"
    },
    "id": "VegnILr9MiUB",
    "outputId": "fc33f834-a90c-4ab8-901c-3d526af1f309"
   },
   "outputs": [
    {
     "data": {
      "text/plain": [
       "[<__main__.Node at 0x7f9dd172e280>, <__main__.Node at 0x7f9dc6962400>]"
      ]
     },
     "execution_count": 284,
     "metadata": {},
     "output_type": "execute_result"
    }
   ],
   "source": [
    "n = Node(5)\n",
    "p = Node(6)\n",
    "q = Node(7)\n",
    "n.add_child(p)\n",
    "n.add_child(q)\n",
    "n.children"
   ]
  },
  {
   "cell_type": "markdown",
   "metadata": {
    "id": "nnMKM6UVMiUC",
    "nbgrader": {
     "grade": false,
     "grade_id": "cell-2f1ceb251c649b62",
     "locked": true,
     "schema_version": 1,
     "solution": false
    }
   },
   "source": [
    "## Data preprocessing\n",
    "\n",
    "For the following exercise, we will use a dataset containing mushroom data `agaricus-lepiota.csv`. \n",
    "\n",
    "This data set includes descriptions of hypothetical samples corresponding to 23 species of gilled mushrooms in the Agaricus and Lepiota Family. Each species is identified as definitely edible, definitely poisonous, or of unknown edibility and not recommended. This latter class was combined with the poisonous\n",
    "one (=there are only two classes **edible** and **poisonous**). \n",
    "    \n",
    "The dataset contains 8124 observations with 22 features:\n",
    "1. cap-shape: bell=b,conical=c,convex=x,flat=f,knobbed=k,sunken=s\n",
    "2. cap-surface: fibrous=f,grooves=g,scaly=y,smooth=s\n",
    "3. cap-color: brown=n,buff=b,cinnamon=c,gray=g,green=r,pink=p,purple=u,red=e,white=w,yellow=y\n",
    "4. bruises: bruises=t,no=f\n",
    "5. odor: almond=a,anise=l,creosote=c,fishy=y,foul=f, musty=m,none=n,pungent=p,spicy=s\n",
    "6. gill-attachment: attached=a,descending=d,free=f,notched=n\n",
    "7. gill-spacing: close=c,crowded=w,distant=d\n",
    "8. gill-size: broad=b,narrow=n\n",
    "9. gill-color: black=k,brown=n,buff=b,chocolate=h,gray=g,green=r,orange=o,pink=p,purple=u,red=e,white=w,yellow=y\n",
    "10. stalk-shape: enlarging=e,tapering=t\n",
    "11. stalk-root: bulbous=b,club=c,cup=u,equal=e,rhizomorphs=z,rooted=r\n",
    "12. stalk-surface-above-ring: fibrous=f,scaly=y,silky=k,smooth=s\n",
    "13. stalk-surface-below-ring: fibrous=f,scaly=y,silky=k,smooth=s\n",
    "14. stalk-color-above-ring: brown=n,buff=b,cinnamon=c,gray=g,orange=o,pink=p,red=e,white=w,yellow=y\n",
    "15. stalk-color-below-ring: brown=n,buff=b,cinnamon=c,gray=g,orange=o,pink=p,red=e,white=w,yellow=y\n",
    "16. veil-type: partial=p,universal=u\n",
    "17. veil-color: brown=n,orange=o,white=w,yellow=y\n",
    "18. ring-number: none=n,one=o,two=t\n",
    "19. ring-type: cobwebby=c,evanescent=e,flaring=f,large=l,none=n,pendant=p,sheathing=s,zone=z\n",
    "20. spore-print-color: black=k,brown=n,buff=b,chocolate=h,green=r,orange=o,purple=u,white=w,yellow=y\n",
    "21. population: abundant=a,clustered=c,numerous=n,scattered=s,several=v,solitary=y\n",
    "22. habitat: grasses=g,leaves=l,meadows=m,paths=p,urban=u,waste=w,woods=d\n",
    "\n",
    "First, we will read and explore the data using pandas and the `.read_csv` method. Pandas is an open source library providing high-performance, easy-to-use data structures and data analysis tools for the Python programming language."
   ]
  },
  {
   "cell_type": "code",
   "execution_count": 285,
   "metadata": {
    "id": "2DBLtYQyMiUD",
    "nbgrader": {
     "grade": false,
     "grade_id": "cell-d79cb4542926ad3f",
     "locked": true,
     "schema_version": 1,
     "solution": false
    }
   },
   "outputs": [],
   "source": [
    "# load dataset\n",
    "data = pd.read_csv('agaricus-lepiota.csv')"
   ]
  },
  {
   "cell_type": "markdown",
   "metadata": {
    "id": "IvUVDPoIMiUD"
   },
   "source": [
    "One of the advantages of the Decision Tree algorithm is that almost no preprocessing is required. However, finding missing values is always required."
   ]
  },
  {
   "cell_type": "code",
   "execution_count": 286,
   "metadata": {
    "id": "aQcqEw9eMiUE"
   },
   "outputs": [],
   "source": [
    "#############################################################################\n",
    "# TODO: Find columns with missing values and remove them from the data.#\n",
    "#############################################################################\n",
    "\n",
    "data = data.dropna()\n",
    "\n",
    "\n",
    "#all_features = data.drop([])\n",
    "#features_to_drop = []\n",
    "#vals = all_features.values\n",
    "#key = all_features.keys()\n",
    "#for i in range(len(vals[0])):\n",
    "#  for j in range(len(vals)):\n",
    "#    if pd.isnull(vals[j][i]):\n",
    "#      features_to_drop.append(key[i])\n",
    "#      print(features_to_drop)\n",
    "#all_features = all_features.drop(columns = list(set(features_to_drop)))\n",
    "\n",
    "pass\n",
    "#############################################################################\n",
    "#                             END OF YOUR CODE                              #\n",
    "#############################################################################"
   ]
  },
  {
   "cell_type": "markdown",
   "metadata": {
    "id": "URZANcmfMiUE"
   },
   "source": [
    "We will split the dataset to `Training` and `Testing` datasets."
   ]
  },
  {
   "cell_type": "code",
   "execution_count": 287,
   "metadata": {
    "colab": {
     "base_uri": "https://localhost:8080/"
    },
    "id": "lkl8BuesMiUF",
    "outputId": "9f2fc257-c49a-4733-cb19-4f74323d9a44"
   },
   "outputs": [
    {
     "name": "stdout",
     "output_type": "stream",
     "text": [
      "Training dataset shape:  (6093, 22)\n",
      "Testing dataset shape:  (2031, 22)\n"
     ]
    }
   ],
   "source": [
    "from sklearn.model_selection import train_test_split\n",
    "# Making sure the last column will hold the labels\n",
    "X, y = data.drop('class', axis=1), data['class']\n",
    "X = np.column_stack([X,y])\n",
    "# split dataset using random_state to get the same split each time\n",
    "X_train, X_test = train_test_split(X, random_state=99)\n",
    "\n",
    "print(\"Training dataset shape: \", X_train.shape)\n",
    "print(\"Testing dataset shape: \", X_test.shape)"
   ]
  },
  {
   "cell_type": "code",
   "execution_count": 288,
   "metadata": {
    "colab": {
     "base_uri": "https://localhost:8080/"
    },
    "id": "qLizRJeiMiUF",
    "outputId": "1a79c7bb-e5c9-452a-ae76-6163fdff2207"
   },
   "outputs": [
    {
     "data": {
      "text/plain": [
       "(8124,)"
      ]
     },
     "execution_count": 288,
     "metadata": {},
     "output_type": "execute_result"
    }
   ],
   "source": [
    "#also printed yshape...\n",
    "y.shape"
   ]
  },
  {
   "cell_type": "markdown",
   "metadata": {
    "id": "jZdMpw4oMiUG",
    "nbgrader": {
     "grade": false,
     "grade_id": "cell-fd7b0191f3f1e897",
     "locked": true,
     "schema_version": 1,
     "solution": false
    }
   },
   "source": [
    "## Impurity Measures\n",
    "\n",
    "Impurity is a measure of how often a randomly chosen element from the set would be incorrectly labeled if it was randomly labeled according to the distribution of labels in the subset. Implement the functions `calc_gini` and `calc_entropy`. You are encouraged to test your implementation (10 points)."
   ]
  },
  {
   "cell_type": "code",
   "execution_count": 289,
   "metadata": {
    "id": "Wis9MRhIMiUG"
   },
   "outputs": [],
   "source": [
    "def calc_gini(data):\n",
    "    \"\"\"\n",
    "    Calculate gini impurity measure of a dataset.\n",
    " \n",
    "    Input:\n",
    "    - data: any dataset where the last column holds the labels.\n",
    " \n",
    "    Returns the gini impurity.    \n",
    "    \"\"\"\n",
    "    gini = 0.0\n",
    "    ###########################################################################\n",
    "    # TODO: Implement the function.                                           #\n",
    "    ###########################################################################\n",
    "    if data.ndim == 1: return 0   \n",
    "    size_S = data.shape[0]\n",
    "    size_Se = 0\n",
    "    size_Sp = 0\n",
    "    for i in range(size_S):\n",
    "      if data[i][data.shape[1] - 1] == 'e':\n",
    "        size_Se = size_Se + 1\n",
    "      else:\n",
    "        size_Sp = size_Sp + 1\n",
    "    gini = 1 - (size_Se/size_S)**2 - (size_Sp/size_S)**2   \n",
    "    pass\n",
    "    ###########################################################################\n",
    "    #                             END OF YOUR CODE                            #\n",
    "    ###########################################################################\n",
    "    return gini"
   ]
  },
  {
   "cell_type": "code",
   "execution_count": 290,
   "metadata": {
    "id": "DaWMqsRjMiUH"
   },
   "outputs": [],
   "source": [
    "def calc_entropy(data):\n",
    "    \"\"\"\n",
    "    Calculate the entropy of a dataset.\n",
    "\n",
    "    Input:\n",
    "    - data: any dataset where the last column holds the labels.\n",
    "\n",
    "    Returns the entropy of the dataset.    \n",
    "    \"\"\"\n",
    "    entropy = 0.0\n",
    "    ###########################################################################\n",
    "    # TODO: Implement the function.                                           #\n",
    "    ###########################################################################\n",
    "    if data.ndim == 1: return 0\n",
    "    size_S = data.shape[0]\n",
    "    size_Se = 0\n",
    "    size_Sp = 0\n",
    "    for i in range(size_S):\n",
    "      if data[i][data.shape[1] - 1] == 'e':\n",
    "        size_Se = size_Se + 1\n",
    "      else:\n",
    "        size_Sp = size_Sp + 1\n",
    "    if size_Se == 0 or size_Sp == 0:\n",
    "      return 0\n",
    "    else:\n",
    "      rlogr1 = (size_Se/size_S) * np.log2((size_Se/size_S))\n",
    "      rlogr2 = (size_Sp/size_S) * np.log2((size_Sp/size_S))\n",
    "      entropy = -1 * (rlogr1 + rlogr2)\n",
    "      \n",
    "    pass\n",
    "    ###########################################################################\n",
    "    #                             END OF YOUR CODE                            #\n",
    "    ###########################################################################\n",
    "    return entropy"
   ]
  },
  {
   "cell_type": "code",
   "execution_count": 291,
   "metadata": {
    "colab": {
     "base_uri": "https://localhost:8080/"
    },
    "id": "komHBNGtMiUI",
    "outputId": "88997cbc-b525-48a0-9508-5d2b297f06ec",
    "scrolled": true
   },
   "outputs": [
    {
     "data": {
      "text/plain": [
       "(0.49956363223797745, 0.9993703627906085)"
      ]
     },
     "execution_count": 291,
     "metadata": {},
     "output_type": "execute_result"
    }
   ],
   "source": [
    "##### Your Tests Here #####\n",
    "calc_gini(X), calc_entropy(X)"
   ]
  },
  {
   "cell_type": "markdown",
   "metadata": {
    "id": "Zq2yN3jOMiUJ"
   },
   "source": [
    "## Goodness of Split\n",
    "\n",
    "Given a feature the Goodnees of Split measures the reduction in the impurity if we split the data according to the feature.\n",
    "$$\n",
    "\\Delta\\varphi(S, A) = \\varphi(S) - \\sum_{v\\in Values(A)} \\frac{|S_v|}{|S|}\\varphi(S_v)\n",
    "$$\n",
    "\n",
    "In our implementation the goodness_of_split function will return either the Goodness of Split or the Gain Ratio as learned in class. You'll control the return value with the `gain_ratio` parameter. If this parameter will set to False (the default value) it will return the regular Goodness of Split. If it will set to True it will return the Gain Ratio.\n",
    "$$\n",
    "GainRatio(S,A)=\\frac{InformationGain(S,A)}{SplitInformation(S,A)}\n",
    "$$\n",
    "Where:\n",
    "$$\n",
    "InformationGain(S,A)=Goodness\\ of\\ Split\\ calculated\\ with\\ Entropy\\ as\\ the\\ Impurity\\ function \\\\\n",
    "SplitInformation(S,A)=- \\sum_{a\\in A} \\frac{|S_a|}{|S|}\\log\\frac{|S_a|}{|S|}\n",
    "$$\n",
    "NOTE: you can add more parameters to the function and you can also add more returning variables (The given parameters and the given returning variable should not be touch). (10 Points)"
   ]
  },
  {
   "cell_type": "code",
   "execution_count": 292,
   "metadata": {
    "id": "EqIKY3GZMiUK"
   },
   "outputs": [],
   "source": [
    "from numpy.ma.core import log2\n",
    "def goodness_of_split(data, feature, impurity_func, gain_ratio=False):\n",
    "    \"\"\"\n",
    "    Calculate the goodness of split of a dataset given a feature and impurity function.\n",
    "\n",
    "    Input:\n",
    "    - data: any dataset where the last column holds the labels.\n",
    "    - feature: the feature index.\n",
    "    - impurity func: a function that calculates the impurity.\n",
    "    - gain_ratio: goodness of split or gain ratio flag.\n",
    "\n",
    "    Returns the goodness of split (or the Gain Ration).  \n",
    "    \"\"\"\n",
    "    ###########################################################################\n",
    "    # TODO: Implement the function.                                           #\n",
    "    ###########################################################################\n",
    "    #if not gain_ratio:\n",
    "    phi_S = impurity_func(data)\n",
    "    a_Vals = {}\n",
    "    for i in range(data.shape[0]):\n",
    "       v = data[i][feature]\n",
    "       a_Vals[v] = np.ones(data.shape[1])\n",
    "    \n",
    "    for i in range(data.shape[0]):\n",
    "       v = data[i][feature]\n",
    "       a_Vals[v] = np.vstack((a_Vals[v],data[i]))\n",
    "      \n",
    "    for key in a_Vals:\n",
    "      a_Vals[key] = np.delete(a_Vals[key],0,0)\n",
    "    \n",
    "    sum = 0\n",
    "    if not gain_ratio:\n",
    "      for key in a_Vals:\n",
    "        phi_Sv = impurity_func(a_Vals[key])\n",
    "        ratio = a_Vals[key].shape[0]/data.shape[0]\n",
    "        sum += (phi_Sv * ratio)\n",
    "      goodness = phi_S - sum\n",
    "    \n",
    "    else:\n",
    "      information_gain = goodness_of_split(data,feature,calc_entropy,False)\n",
    "      split_information = 0\n",
    "      for key in a_Vals:\n",
    "        ratio = a_Vals[key].shape[0]/data.shape[0]\n",
    "        rlogr = ratio * np.log2(ratio)\n",
    "        sum += rlogr\n",
    "      split_information = -1 * sum\n",
    "      goodness = information_gain / split_information\n",
    "\n",
    "\n",
    "    pass\n",
    "    ###########################################################################\n",
    "    #                             END OF YOUR CODE                            #\n",
    "    ###########################################################################\n",
    "    return goodness"
   ]
  },
  {
   "cell_type": "code",
   "execution_count": 293,
   "metadata": {
    "colab": {
     "base_uri": "https://localhost:8080/"
    },
    "id": "JWlTOHNp4w9s",
    "outputId": "ccfbb4b1-673c-45e0-ed02-23aadc13263d"
   },
   "outputs": [
    {
     "name": "stdout",
     "output_type": "stream",
     "text": [
      "0.005096002067692007\n",
      "0.008055978176283451\n",
      "0.04664750054664303\n"
     ]
    }
   ],
   "source": [
    "#checking goodness of split\n",
    "print(goodness_of_split(X_train,5,calc_gini,False))\n",
    "print(goodness_of_split(X_train,5,calc_entropy,False))\n",
    "print(goodness_of_split(X_train,5,calc_entropy,True))"
   ]
  },
  {
   "cell_type": "markdown",
   "metadata": {
    "id": "5G6QtdZGMiUK"
   },
   "source": [
    "## Building a Decision Tree\n",
    "\n",
    "Use a Python class to construct the decision tree. Your class should support the following functionality:\n",
    "\n",
    "1. Initiating a node for a decision tree. You will need to use several class methods and class attributes and you are free to use them as you see fit. We recommend that every node will hold the feature and value used for the split and its children.\n",
    "2. Your code should support both Gini and Entropy as impurity measures. \n",
    "3. The provided data includes categorical data. In this exercise, when splitting a node create the number of children needed according to the attribute unique values.\n",
    "\n",
    "Complete the class `DecisionNode`. The structure of this class is entirely up to you. \n",
    "\n",
    "Complete the function `build_tree`. This function should get the training dataset and the impurity as inputs, initiate a root for the decision tree and construct the tree according to the procedure you learned in class. (30 points)"
   ]
  },
  {
   "cell_type": "code",
   "execution_count": 294,
   "metadata": {
    "id": "0L1vA_rUMiUL"
   },
   "outputs": [],
   "source": [
    "from math import nan\n",
    "class DecisionNode:\n",
    "    \"\"\"\n",
    "    This class will hold everything you require to construct a decision tree.\n",
    "    The structure of this class is up to you. However, you need to support basic \n",
    "    functionality as described above. It is highly recommended that you \n",
    "    first read and understand the entire exercise before diving into this class.\n",
    "    \"\"\"\n",
    "    def __init__(self, feature, val, data):\n",
    "        self.feature = feature # column index of criteria being tested\n",
    "        self.val = val\n",
    "        self.children = []\n",
    "        self.depth = 0\n",
    "        self.data = data\n",
    "        self.parent = None\n",
    "        \n",
    "    def size(self):\n",
    "        return self.data.shape[0]\n",
    "\n",
    "    def isPure(self, blacklist):  #note that blacklist is here for commented version (iterative)\n",
    "      return calc_entropy(self.data) == 0\n",
    "\n",
    "      \"\"\"in this version train is not 1.0 (is 0.9998735 blah blah) check if features makes better goodness                         \n",
    "      for i in range(self.data.shape[1]-1):\n",
    "        if i not in blacklist:\n",
    "          if not goodness_of_split(self.data, i,calc_entropy) == 0:\n",
    "            return False\n",
    "      return True\n",
    "      \"\"\"\n",
    "    def add_child(self, node):\n",
    "        self.children.append(node)\n",
    "        node.parent = self\n",
    "        node.depth = self.depth + 1\n",
    "\n",
    "    def printInfo(self):\n",
    "      print(f\"my value is {self.val}\")\n",
    "      print(f\"my children are {self.children}\")\n",
    "      if len(self.children) > 0:\n",
    "        print(f\"my first childs depth is {self.children[0].depth}\")\n",
    "      print(f\"my depth is {self.depth}\")\n",
    "\n",
    "    def find_best_split(self, impurity_func, gr, blacklist):\n",
    "      super_good = -1\n",
    "      good_i = -1\n",
    "      for i in range(self.data.shape[1]-1):\n",
    "        temp = goodness_of_split(self.data, i, impurity_func, gr)\n",
    "        if temp > super_good and i not in blacklist:\n",
    "          super_good = temp\n",
    "          good_i = i\n",
    "      return good_i\n",
    "\n",
    "    def find_root(self):\n",
    "      #if self.parent == None: return self\n",
    "      #else: self.parent.find_root()\n",
    "      iter = self\n",
    "      while not iter.parent == None:\n",
    "        iter = iter.parent\n",
    "      return iter\n",
    "\n",
    "    def find_branches(self, feature):\n",
    "      ret = set()\n",
    "      for i in range(self.data.shape[0]):\n",
    "        ret.add(self.data[i][feature])\n",
    "      return ret\n",
    "\n",
    "    def pred(self):\n",
    "      pcount = 0\n",
    "      ecount = 0\n",
    "      for label in self.data.T[-1]:\n",
    "        if label == 'p': pcount += 1\n",
    "        else: ecount += 1\n",
    "      if ecount > pcount: return 'e'\n",
    "      else: return 'p'\n",
    "        \n",
    "    def count_p(self):\n",
    "        pcount = 0\n",
    "        for label in self.data.T[-1]:\n",
    "            if label == 'p': pcount += 1\n",
    "        return pcount\n"
   ]
  },
  {
   "cell_type": "code",
   "execution_count": 295,
   "metadata": {
    "id": "T_wuhbN5MiUL"
   },
   "outputs": [],
   "source": [
    "def build_tree(data, impurity, gain_ratio=False, min_samples_split=1, max_depth=1000):\n",
    "    \"\"\"\n",
    "    Build a tree using the given impurity measure and training dataset. \n",
    "    You are required to fully grow the tree until all leaves are pure. \n",
    "\n",
    "    Input:\n",
    "    - data: the training dataset.\n",
    "    - impurity: the chosen impurity measure. Notice that you can send a function\n",
    "      as an argument in python.\n",
    "    - gain_ratio: goodness of split or gain ratio flag\n",
    "    - min_samples_split: the minimum number of samples required to split an internal node\n",
    "    - max_depth: the allowable depth of the tree\n",
    "    \n",
    "    Output: the root node of the tree.\n",
    "    \"\"\"\n",
    "    root = None\n",
    "    ###########################################################################\n",
    "    # TODO: Implement the function.                                           #\n",
    "    ###########################################################################\n",
    "    root = DecisionNode(None, None, data)\n",
    "    blacklist = []\n",
    "    def build_tree_recursive(root, data, impurity, blacklist, gain_ratio, min_samples_split, max_depth):\n",
    "      \n",
    "      blacklist = blacklist.copy()\n",
    "      #note sending blacklist for iterative version of isPure() which isnt used in this version\n",
    "      if (root.isPure(blacklist) or root.depth >= max_depth or root.size() <= min_samples_split): return None\n",
    "\n",
    "      else:\n",
    "        best_split = root.find_best_split(impurity,gain_ratio, blacklist)\n",
    "        if not best_split == -1:        \n",
    "          branches = root.find_branches(best_split)\n",
    "          blacklist.append(best_split)\n",
    "        else: return None\n",
    "\n",
    "        for val in branches:\n",
    "          branch = DecisionNode(best_split, val, np.ones(data.shape[1]))\n",
    "          root.add_child(branch)\n",
    "\n",
    "        for instance in root.data:\n",
    "          for i in range(len(root.children)):\n",
    "            if instance[best_split] == root.children[i].val:\n",
    "              root.children[i].data = np.vstack((root.children[i].data, instance))\n",
    " \n",
    "        for child in root.children:\n",
    "          child.data = np.delete(child.data,0,0)\n",
    "\n",
    "\n",
    "        for child in root.children:\n",
    "          build_tree_recursive(child, child.data, impurity, blacklist, gain_ratio, min_samples_split, max_depth)\n",
    "\n",
    "\n",
    "    build_tree_recursive(root, data, impurity, blacklist, gain_ratio, min_samples_split, max_depth)\n",
    "    \n",
    "    pass\n",
    "    ###########################################################################\n",
    "    #                             END OF YOUR CODE                            #\n",
    "    ###########################################################################\n",
    "    return root.find_root()"
   ]
  },
  {
   "cell_type": "code",
   "execution_count": 296,
   "metadata": {
    "id": "z4nc9sdIMiUM"
   },
   "outputs": [],
   "source": [
    "# python supports passing a function as an argument to another function.\n",
    "tree_gini = build_tree(data=X_train, impurity=calc_gini) # gini and goodness of split\n",
    "tree_entropy = build_tree(data=X_train, impurity=calc_entropy) # entropy and goodness of split\n",
    "tree_entropy_gain_ratio = build_tree(data=X_train, impurity=calc_entropy, gain_ratio=True) # entropy and gain ratio"
   ]
  },
  {
   "cell_type": "markdown",
   "metadata": {
    "id": "WiGYpYqEMiUM"
   },
   "source": [
    "## Tree evaluation\n",
    "\n",
    "Complete the functions `predict` and `calc_accuracy`. (10 points)"
   ]
  },
  {
   "cell_type": "code",
   "execution_count": 297,
   "metadata": {
    "id": "6Mxu7HlwMiUN"
   },
   "outputs": [],
   "source": [
    "def predict(node, instance):\n",
    "    \"\"\"\n",
    "    Predict a given instance using the decision tree\n",
    " \n",
    "    Input:\n",
    "    - root: the root of the decision tree.\n",
    "    - instance: an row vector from the dataset. Note that the last element \n",
    "                of this vector is the label of the instance.\n",
    " \n",
    "    Output: the prediction of the instance.\n",
    "    \"\"\"\n",
    "    pred = None\n",
    "    ###########################################################################\n",
    "    # TODO: Implement the function.                                           #\n",
    "    ###########################################################################\n",
    "    \n",
    "    while not len(node.children) == 0:\n",
    "      i = 0\n",
    "      for child in node.children:\n",
    "        if child.val == instance[child.feature]:\n",
    "          node = child\n",
    "          i = i + 1\n",
    "          break\n",
    "      if i == 0:\n",
    "        break\n",
    "\n",
    "\n",
    "    pass\n",
    "    ###########################################################################\n",
    "    #                             END OF YOUR CODE                            #\n",
    "    ###########################################################################\n",
    "    return node.pred()"
   ]
  },
  {
   "cell_type": "code",
   "execution_count": 298,
   "metadata": {
    "id": "KQxfXOYtMiUN"
   },
   "outputs": [],
   "source": [
    "def calc_accuracy(node, dataset):\n",
    "    \"\"\"\n",
    "    Predict a given dataset using the decision tree\n",
    " \n",
    "    Input:\n",
    "    - node: a node in the decision tree.\n",
    "    - dataset: the dataset on which the accuracy is evaluated\n",
    " \n",
    "    Output: the accuracy of the decision tree on the given dataset (%).\n",
    "    \"\"\"\n",
    "    accuracy = 0\n",
    "    ###########################################################################\n",
    "    # TODO: Implement the function.                                           #\n",
    "    ###########################################################################\n",
    "    i = 0\n",
    "    percent = 0\n",
    "    for instance in dataset:\n",
    "      if predict(node,instance) == dataset[i][-1]:\n",
    "        percent += 1\n",
    "      i += 1\n",
    "    accuracy = percent / i\n",
    "    pass\n",
    "    ###########################################################################\n",
    "    #                             END OF YOUR CODE                            #\n",
    "    ###########################################################################\n",
    "    return accuracy "
   ]
  },
  {
   "cell_type": "markdown",
   "metadata": {
    "id": "VNnzIZhpMiUO"
   },
   "source": [
    "After building the three trees using the training set, you should calculate the accuracy on the test set. For each tree print the training and test accuracy. Select the tree that gave you the best test accuracy. For the rest of the exercise, use that tree (when you asked to build another tree use the same impurity function and same gain_ratio flag). "
   ]
  },
  {
   "cell_type": "code",
   "execution_count": 299,
   "metadata": {
    "colab": {
     "base_uri": "https://localhost:8080/"
    },
    "id": "Wv9l4mbSMiUO",
    "outputId": "91ea11ad-9d72-44b0-da03-605f7dbc5073"
   },
   "outputs": [
    {
     "name": "stdout",
     "output_type": "stream",
     "text": [
      "train accuracy for entropy is : 1.0\n",
      "test accuracy for entropy is : 0.7804037419990153\n",
      "train accuracy for gini is : 1.0\n",
      "test accuracy for gini is : 0.7749876907927129\n",
      "train accuracy for gain is : 1.0\n",
      "test accuracy for gain is : 0.7902511078286558\n"
     ]
    }
   ],
   "source": [
    "#### Your code here ####\n",
    "train_accuracy_entropy = calc_accuracy(tree_entropy, X_train)\n",
    "test_accuracy_entropy = calc_accuracy(tree_entropy, X_test)\n",
    "train_accuracy_gini = calc_accuracy(tree_gini, X_train)\n",
    "test_accuracy_gini = calc_accuracy(tree_gini, X_test)\n",
    "train_accuracy_gain = calc_accuracy(tree_entropy_gain_ratio, X_train)\n",
    "test_accuracy_gain = calc_accuracy(tree_entropy_gain_ratio, X_test)\n",
    "\n",
    "print(f\"train accuracy for entropy is : {train_accuracy_entropy}\")\n",
    "print(f\"test accuracy for entropy is : {test_accuracy_entropy}\")\n",
    "print(f\"train accuracy for gini is : {train_accuracy_gini}\")\n",
    "print(f\"test accuracy for gini is : {test_accuracy_gini}\")\n",
    "print(f\"train accuracy for gain is : {train_accuracy_gain}\")\n",
    "print(f\"test accuracy for gain is : {test_accuracy_gain}\")\n"
   ]
  },
  {
   "cell_type": "markdown",
   "metadata": {
    "id": "EU-hdGzrMiUP"
   },
   "source": [
    "## Depth pruning\n",
    "\n",
    "(15 points)\n",
    "\n",
    "Consider the following max_depth values: [1, 2, 3, 4, 5, 6, 7, 8]. For each value, construct a tree and prune it according to the max_depth value = don't let the tree to grow beyond this depth. Next, calculate the training and testing accuracy.<br>\n",
    "On a single plot, draw the training and testing accuracy as a function of the max_depth. Mark the best result on the graph with red circle."
   ]
  },
  {
   "cell_type": "code",
   "execution_count": 300,
   "metadata": {
    "id": "IPSU4A5_MiUP"
   },
   "outputs": [
    {
     "name": "stdout",
     "output_type": "stream",
     "text": [
      "max_depth : 1, accuracy of train : 0.8885606433612342\n",
      "max_depth : 1, accuracy of test : 0.8852781880846874\n",
      "max_depth : 2, accuracy of train : 0.8885606433612342\n",
      "max_depth : 2, accuracy of test : 0.8852781880846874\n",
      "max_depth : 3, accuracy of train : 0.8964385360249466\n",
      "max_depth : 3, accuracy of test : 0.8931560807483998\n",
      "max_depth : 4, accuracy of train : 0.901854587231249\n",
      "max_depth : 4, accuracy of test : 0.8956179222058099\n",
      "max_depth : 5, accuracy of train : 0.9030034465780403\n",
      "max_depth : 5, accuracy of test : 0.8872476612506155\n",
      "max_depth : 6, accuracy of train : 0.9069423929098966\n",
      "max_depth : 6, accuracy of test : 0.8778926637124569\n",
      "max_depth : 7, accuracy of train : 0.9184309863778106\n",
      "max_depth : 7, accuracy of test : 0.8586903003446578\n",
      "max_depth : 8, accuracy of train : 0.9328737895946168\n",
      "max_depth : 8, accuracy of test : 0.8399803052683407\n"
     ]
    },
    {
     "data": {
      "image/png": "[encoded data removed]",
      "text/plain": [
       "<Figure size 720x576 with 1 Axes>"
      ]
     },
     "metadata": {
      "needs_background": "light"
     },
     "output_type": "display_data"
    }
   ],
   "source": [
    "#### Your code here ####\n",
    "\n",
    "\n",
    "treesd = []\n",
    "for i in range(8):\n",
    "  treesd.append(build_tree(data=X_train, impurity=calc_entropy, gain_ratio=True, min_samples_split=1, max_depth = i + 1))\n",
    "\n",
    "train_accuracy_depth = []\n",
    "test_accuracy_depth = []\n",
    "for i in range(8):\n",
    "  print(f\"max_depth : {i+1}, accuracy of train : {calc_accuracy(treesd[i], X_train)}\")\n",
    "  train_accuracy_depth.append(calc_accuracy(treesd[i], X_train))\n",
    "  print(f\"max_depth : {i+1}, accuracy of test : {calc_accuracy(treesd[i], X_test)}\")\n",
    "  test_accuracy_depth.append(calc_accuracy(treesd[i], X_test))\n",
    "\n",
    "\n",
    "best_max_depth = 0\n",
    "best_max_depth_val = 0\n",
    "\n",
    "for i in range(len(test_accuracy_depth)):\n",
    "  if test_accuracy_depth[i] > best_max_depth_val:\n",
    "    best_max_depth_val = test_accuracy_depth[i]\n",
    "    best_max_depth = i\n",
    "\n",
    "plt.plot(np.arange(start=1, stop=len(train_accuracy_depth)+1, step=1),train_accuracy_depth)\n",
    "plt.plot(np.arange(start=1, stop=len(train_accuracy_depth)+1, step=1),test_accuracy_depth)\n",
    "plt.plot(best_max_depth + 1,test_accuracy_depth[best_max_depth],'ro')\n",
    "plt.legend(['train accuracy','test accuracy'])\n",
    "plt.xscale('linear')\n",
    "plt.xlabel('depth')\n",
    "plt.ylabel('accuracy')\n",
    "plt.title('accuracy as a function of depth')\n",
    "plt.show()"
   ]
  },
  {
   "cell_type": "markdown",
   "metadata": {
    "id": "qibEUmC9MiUP"
   },
   "source": [
    "## Min Samples Split\n",
    "\n",
    "(15 points)\n",
    "\n",
    "Consider the following min_samples_split values: [1, 5, 10, 20, 50]. For each value, construct a tree and prune it according to the min_samples_split value = don't split a node if the number of sample in it is less or equal to the min_samples_split value. Next, calculate the training and testing accuracy.<br>\n",
    "On a single plot, draw the training and testing accuracy as a function of the min_samples_split. Mark the best result on the graph with red circle. (make sure that the x-axis ticks represent the values of min_samples_split)"
   ]
  },
  {
   "cell_type": "code",
   "execution_count": 301,
   "metadata": {
    "colab": {
     "base_uri": "https://localhost:8080/"
    },
    "id": "qz33HRrRMiUQ",
    "outputId": "3bed832a-5e96-4c29-80d4-fc426c31fe35"
   },
   "outputs": [
    {
     "name": "stdout",
     "output_type": "stream",
     "text": [
      "min sample split is : 1, accuracy of train : 1.0\n",
      "min sample split_is : 1, accuracy of test : 0.7902511078286558\n",
      "min sample split is : 5, accuracy of train : 0.9182668636139832\n",
      "min sample split_is : 5, accuracy of test : 0.8321024126046282\n",
      "min sample split is : 10, accuracy of train : 0.9041523059248318\n",
      "min sample split_is : 10, accuracy of test : 0.8778926637124569\n",
      "min sample split is : 20, accuracy of train : 0.9020187099950763\n",
      "min sample split_is : 20, accuracy of test : 0.8916789758739537\n",
      "min sample split is : 50, accuracy of train : 0.9016904644674216\n",
      "min sample split_is : 50, accuracy of test : 0.8951255539143279\n"
     ]
    },
    {
     "data": {
      "image/png": "[encoded data removed]",
      "text/plain": [
       "<Figure size 720x576 with 1 Axes>"
      ]
     },
     "metadata": {
      "needs_background": "light"
     },
     "output_type": "display_data"
    }
   ],
   "source": [
    "#### Your code here ####\n",
    "\n",
    "min_split_values = [1,5,10,20,50]\n",
    "treesm = []\n",
    "for i in range(len(min_split_values)):\n",
    "    treesm.append(build_tree(data=X_train, impurity=calc_entropy, gain_ratio=True, min_samples_split=min_split_values[i], max_depth=1000))\n",
    "\n",
    "train_accuracy_samples = []\n",
    "test_accuracy_samples = []\n",
    "for i in range(len(min_split_values)):\n",
    "  print(f\"min sample split is : {min_split_values[i]}, accuracy of train : {calc_accuracy(treesm[i], X_train)}\")\n",
    "  train_accuracy_samples.append(calc_accuracy(treesm[i], X_train))\n",
    "  print(f\"min sample split_is : {min_split_values[i]}, accuracy of test : {calc_accuracy(treesm[i], X_test)}\")\n",
    "  test_accuracy_samples.append(calc_accuracy(treesm[i], X_test))\n",
    "\n",
    "\n",
    "best_min_samples = 0\n",
    "best_min_samples_val = 0\n",
    "\n",
    "for j in range(len(test_accuracy_samples)):\n",
    "  if test_accuracy_samples[j] > best_min_samples_val:\n",
    "    best_min_samples = j\n",
    "    best_min_samples_val = test_accuracy_samples[j]\n",
    "\n",
    "\n",
    "plt.plot(range(len(min_split_values)),train_accuracy_samples)\n",
    "plt.plot(range(len(min_split_values)),test_accuracy_samples)\n",
    "plt.plot(best_min_samples,best_min_samples_val,'ro')    \n",
    "plt.xticks(range(len(min_split_values)),min_split_values)\n",
    "plt.legend(['train accuracy','test accuracy'])\n",
    "plt.xlabel('min samples split')\n",
    "plt.ylabel('accuracy')\n",
    "plt.title('accuracy as a function of min samples split')\n",
    "\n",
    "plt.show()"
   ]
  },
  {
   "cell_type": "markdown",
   "metadata": {
    "id": "vNzdbFbFMiUQ"
   },
   "source": [
    "Build the best 2 trees:\n",
    "1. tree_max_depth - the best tree according to max_depth pruning\n",
    "1. tree_min_samples_split - the best tree according to min_samples_split pruning"
   ]
  },
  {
   "cell_type": "code",
   "execution_count": 302,
   "metadata": {
    "id": "DCugr-JnMiUQ"
   },
   "outputs": [],
   "source": [
    "#### Your code here ####\n",
    "tree_max_depth = treesd[best_max_depth]\n",
    "tree_min_samples_split = treesm[j]"
   ]
  },
  {
   "cell_type": "markdown",
   "metadata": {
    "id": "OZk6jjiQMiUR"
   },
   "source": [
    "## Number of Nodes\n",
    "\n",
    "(5 points)\n",
    "\n",
    "Complete the function counts_nodes and print the number of nodes in each tree and print the number of nodes of the two trees above"
   ]
  },
  {
   "cell_type": "code",
   "execution_count": 303,
   "metadata": {
    "id": "yiFXSMCTMiUR"
   },
   "outputs": [],
   "source": [
    "def count_nodes(node):\n",
    "    \"\"\"\n",
    "    Count the number of node in a given tree\n",
    "\n",
    "    Input:\n",
    "    - node: a node in the decision tree.\n",
    " \n",
    "    Output: the number of node in the tree.\n",
    "    \"\"\"\n",
    "    ###########################################################################\n",
    "    # TODO: Implement the function.                                           #\n",
    "    ###########################################################################\n",
    "    def count_nodes_rec(node):\n",
    "      i = 0\n",
    "      if len(node.children) == 0:\n",
    "        return i + 1\n",
    "      else:\n",
    "        i = i + 1                          \n",
    "        for child in node.children:\n",
    "          i += count_nodes_rec(child)\n",
    "        return i\n",
    "        \n",
    "    i = count_nodes_rec(node)\n",
    "    pass\n",
    "    ###########################################################################\n",
    "    #                             END OF YOUR CODE                            #\n",
    "    ###########################################################################\n",
    "    return i"
   ]
  },
  {
   "cell_type": "code",
   "execution_count": 304,
   "metadata": {
    "colab": {
     "base_uri": "https://localhost:8080/"
    },
    "id": "lS-vXZhkcZ4y",
    "outputId": "e12391c8-2805-4150-f349-addd91b07a41",
    "scrolled": true
   },
   "outputs": [
    {
     "name": "stdout",
     "output_type": "stream",
     "text": [
      "The number of nodes in best max depth tree is : 205\n",
      "The number of nodes in best min samples split tree is : 349\n"
     ]
    }
   ],
   "source": [
    "print(f\"The number of nodes in best max depth tree is : {count_nodes(tree_max_depth)}\")\n",
    "print(f\"The number of nodes in best min samples split tree is : {count_nodes(tree_min_samples_split)}\")"
   ]
  },
  {
   "cell_type": "markdown",
   "metadata": {
    "id": "C94VOFDqMiUR"
   },
   "source": [
    "## Print the tree\n",
    "\n",
    "Complete the function `print_tree`. Your tree should be visualized clearly. You can use the following example as a reference:\n",
    "```\n",
    "[ROOT, feature=X0],\n",
    "  [X0=a, feature=X2]\n",
    "    [X2=c, leaf]: [{1.0: 10}]\n",
    "    [X2=d, leaf]: [{0.0: 10}]\n",
    "  [X0=y, feature=X5], \n",
    "    [X5=a, leaf]: [{1.0: 5}]\n",
    "    [X5=s, leaf]: [{0.0: 10}]\n",
    "  [X0=e, leaf]: [{0.0: 25, 1.0: 50}]\n",
    "```\n",
    "In each brackets:\n",
    "* The first argument is the parent feature with the value that led to current node\n",
    "* The second argument is the selected feature of the current node\n",
    "* If the current node is a leaf, you need to print also the labels and their counts\n",
    "\n",
    "(5 points)"
   ]
  },
  {
   "cell_type": "code",
   "execution_count": 305,
   "metadata": {
    "id": "j0hGVYaqMiUS"
   },
   "outputs": [],
   "source": [
    "# you can change the function signeture\n",
    "def print_tree(node, depth=0, parent_feature='ROOT', feature_val='ROOT'):\n",
    "    '''\n",
    "    prints the tree according to the example above\n",
    "\n",
    "    Input:\n",
    "    - node: a node in the decision tree\n",
    "\n",
    "    This function has no return value\n",
    "    '''\n",
    "    ###########################################################################\n",
    "    # TODO: Implement the function.                                           #\n",
    "    ###########################################################################\n",
    "    \n",
    "    if node.parent == None:\n",
    "        print(f\"[{parent_feature}, feature = {node.children[0].feature}]\")\n",
    "    else:\n",
    "        if not len(node.children) == 0:\n",
    "            print(f\"  [{node.feature} = {node.val}, feature = {node.children[0].feature}]\")\n",
    "        else:\n",
    "            countp = node.count_p()\n",
    "            counte = node.size() - node.count_p()\n",
    "            print(f\"    [{parent_feature} = {node.val}, leaf]: [p: {countp}, e: {counte}]\")\n",
    "    for child in node.children:\n",
    "        print_tree(child,0, node.children[0].feature, child.val)\n",
    "    \n",
    "    pass\n",
    "    ###########################################################################\n",
    "    #                             END OF YOUR CODE                            #\n",
    "    ###########################################################################"
   ]
  },
  {
   "cell_type": "markdown",
   "metadata": {
    "id": "cx1uRtD-MiUT"
   },
   "source": [
    "print the tree with the best test accuracy and with less than 50 nodes (from the two pruning methods)"
   ]
  },
  {
   "cell_type": "code",
   "execution_count": 306,
   "metadata": {
    "id": "JF_ZpCJ9MiUT"
   },
   "outputs": [
    {
     "name": "stdout",
     "output_type": "stream",
     "text": [
      "[ROOT, feature = 4]\n",
      "  [4 = y, feature = 1]\n",
      "    [1 = y, leaf]: [p: 188, e: 31]\n",
      "    [1 = s, leaf]: [p: 194, e: 18]\n",
      "  [4 = m, feature = 0]\n",
      "    [0 = f, leaf]: [p: 8, e: 1]\n",
      "    [0 = x, leaf]: [p: 7, e: 0]\n",
      "    [0 = k, leaf]: [p: 10, e: 1]\n",
      "  [4 = a, feature = 2]\n",
      "    [2 = n, leaf]: [p: 5, e: 33]\n",
      "    [2 = y, leaf]: [p: 19, e: 133]\n",
      "    [2 = w, leaf]: [p: 7, e: 107]\n",
      "  [4 = f, feature = 10]\n",
      "    [10 = f, leaf]: [p: 91, e: 14]\n",
      "    [10 = s, leaf]: [p: 310, e: 22]\n",
      "    [10 = k, leaf]: [p: 1037, e: 134]\n",
      "  [4 = l, feature = 1]\n",
      "    [1 = y, leaf]: [p: 10, e: 159]\n",
      "    [1 = f, leaf]: [p: 1, e: 19]\n",
      "    [1 = s, leaf]: [p: 16, e: 94]\n",
      "  [4 = s, feature = 13]\n",
      "    [13 = p, leaf]: [p: 190, e: 12]\n",
      "    [13 = w, leaf]: [p: 190, e: 26]\n",
      "  [4 = c, feature = 6]\n",
      "    [6 = w, leaf]: [p: 74, e: 3]\n",
      "    [6 = c, leaf]: [p: 63, e: 7]\n",
      "  [4 = n, feature = 7]\n",
      "    [7 = n, leaf]: [p: 58, e: 135]\n",
      "    [7 = b, leaf]: [p: 286, e: 2197]\n",
      "  [4 = p, feature = 0]\n",
      "    [0 = f, leaf]: [p: 86, e: 7]\n",
      "    [0 = x, leaf]: [p: 89, e: 1]\n"
     ]
    }
   ],
   "source": [
    "#### Your code here ####\n",
    "root = None\n",
    "best_curr_acc = 0\n",
    "for tree in treesd:\n",
    "    if count_nodes(tree) < 50:\n",
    "        if best_curr_acc <= calc_accuracy(tree, X_test):\n",
    "            best_curr_acc = calc_accuracy(tree, X_test)\n",
    "            root = tree\n",
    "for tree in treesm:\n",
    "    if count_nodes(tree) < 50:\n",
    "        if best_curr_acc <= calc_accuracy(tree, X_test):\n",
    "            best_curr_acc = calc_accuracy(tree, X_test)\n",
    "            root = tree\n",
    "\n",
    "print_tree(root)"
   ]
  },
  {
   "cell_type": "code",
   "execution_count": null,
   "metadata": {},
   "outputs": [],
   "source": []
  }
 ],
 "metadata": {
  "celltoolbar": "Create Assignment",
  "colab": {
   "collapsed_sections": [
    "6nopS2daMiT7"
   ],
   "name": "hwa2.ipynb",
   "provenance": []
  },
  "kernelspec": {
   "display_name": "Python 3 (ipykernel)",
   "language": "python",
   "name": "python3"
  },
  "language_info": {
   "codemirror_mode": {
    "name": "ipython",
    "version": 3
   },
   "file_extension": ".py",
   "mimetype": "text/x-python",
   "name": "python",
   "nbconvert_exporter": "python",
   "pygments_lexer": "ipython3",
   "version": "3.9.7"
  }
 },
 "nbformat": 4,
 "nbformat_minor": 1
}
